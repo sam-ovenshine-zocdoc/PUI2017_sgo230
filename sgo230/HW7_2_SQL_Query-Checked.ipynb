{
 "cells": [
  {
   "cell_type": "markdown",
   "metadata": {},
   "source": [
    "# SQL CARTO QUERY FUNCTION\n",
    "# written for PUI2016_Python2"
   ]
  },
  {
   "cell_type": "markdown",
   "metadata": {},
   "source": [
    "##### This notebook is set up to link as a default to the fb55 account.  To turn in the homework use the same account you used in the lab (hvt201)  and query the database that you were querying in class (citibike_feb_2015)"
   ]
  },
  {
   "cell_type": "code",
   "execution_count": 1,
   "metadata": {},
   "outputs": [
    {
     "ename": "SyntaxError",
     "evalue": "invalid syntax (<ipython-input-1-b59737a74945>, line 23)",
     "output_type": "error",
     "traceback": [
      "\u001b[0;36m  File \u001b[0;32m\"<ipython-input-1-b59737a74945>\"\u001b[0;36m, line \u001b[0;32m23\u001b[0m\n\u001b[0;31m    except urllib2.HTTPError, e:\u001b[0m\n\u001b[0m                            ^\u001b[0m\n\u001b[0;31mSyntaxError\u001b[0m\u001b[0;31m:\u001b[0m invalid syntax\n"
     ]
    }
   ],
   "source": [
    "SQL_SOURCE = 'https://sgo230.carto.com/api/v2/sql?q='\n",
    "\n",
    "import urllib2\n",
    "import urllib\n",
    "import StringIO\n",
    "import ast\n",
    "import pandas as pd\n",
    "\n",
    "def queryCartoDB(query, format='CSV', source=SQL_SOURCE):\n",
    "    '''queries carto datasets from a given carto account\n",
    "    Arguments: \n",
    "    query - string: a valid sql query string\n",
    "    format - outlut format  OPTIONAL (default CSV)\n",
    "    source - a valid sql api endpoint OPTIONAL (default carto fb55 account)\n",
    "    Returns:\n",
    "    the return of the sql query AS A STRING\n",
    "    NOTES:\n",
    "    designed for the carto API, tested only with CSV return format'''\n",
    "    \n",
    "    data = urllib.urlencode({'format': format, 'q': query})\n",
    "    try:\n",
    "        response = urllib2.urlopen(source, data)\n",
    "    except urllib2.HTTPError, e:\n",
    "        raise ValueError('\\n'.join(ast.literal_eval(e.readline())['error']))\n",
    "    except Exception:\n",
    "        raise\n",
    "    return response.read()"
   ]
  },
  {
   "cell_type": "code",
   "execution_count": null,
   "metadata": {},
   "outputs": [],
   "source": [
    "test = '''\n",
    "SELECT\n",
    "    *\n",
    "FROM\n",
    "    citibike\n",
    "'''"
   ]
  },
  {
   "cell_type": "code",
   "execution_count": null,
   "metadata": {
    "scrolled": true
   },
   "outputs": [],
   "source": [
    "pd.read_csv(StringIO.StringIO(queryCartoDB(test)), sep=',').head()"
   ]
  },
  {
   "cell_type": "markdown",
   "metadata": {},
   "source": [
    "<b>Task 1</b>"
   ]
  },
  {
   "cell_type": "code",
   "execution_count": null,
   "metadata": {},
   "outputs": [],
   "source": [
    "#Sort data by start_station_id, tripduration\n",
    "#Only checking trips with duration <= 3 hours \n",
    "task1_1 = '''\n",
    "SELECT\n",
    "    *\n",
    "FROM\n",
    "    citibike\n",
    "WHERE\n",
    "    tripduration / 3600 <= 3\n",
    "ORDER BY\n",
    "    start_station_id,\n",
    "    tripduration\n",
    "'''\n",
    "pd.read_csv(StringIO.StringIO(queryCartoDB(task1_1)), sep=',').head()"
   ]
  },
  {
   "cell_type": "code",
   "execution_count": null,
   "metadata": {},
   "outputs": [],
   "source": [
    "# Only show the top/last 10 records (aka head and tail in SQL) \n",
    "task1_2a = '''\n",
    "SELECT\n",
    "    *\n",
    "FROM\n",
    "    citibike\n",
    "WHERE\n",
    "    tripduration / 3600 <= 3\n",
    "ORDER BY\n",
    "    start_station_id, \n",
    "    tripduration\n",
    "LIMIT 10\n",
    "'''\n",
    "pd.read_csv(StringIO.StringIO(queryCartoDB(task1_2a)), sep=',').head()"
   ]
  },
  {
   "cell_type": "code",
   "execution_count": null,
   "metadata": {},
   "outputs": [],
   "source": [
    "# Only show the top/last 10 records (aka head and tail in SQL) \n",
    "task1_2b = '''\n",
    "SELECT \n",
    "    *\n",
    "FROM \n",
    "    citibike\n",
    "WHERE \n",
    "    tripduration / 3600 <= 3\n",
    "ORDER BY\n",
    "    start_station_id DESC, \n",
    "    tripduration DESC\n",
    "LIMIT 10\n",
    "'''\n",
    "pd.read_csv(StringIO.StringIO(queryCartoDB(task1_2b)), sep=',').head()"
   ]
  },
  {
   "cell_type": "code",
   "execution_count": null,
   "metadata": {},
   "outputs": [],
   "source": [
    "# List all unique start_station_id values\n",
    "task1_3 = '''\n",
    "SELECT DISTINCT\n",
    "    start_station_id\n",
    "FROM \n",
    "    citibike\n",
    "'''\n",
    "pd.read_csv(StringIO.StringIO(queryCartoDB(task1_3)), sep=',').head()"
   ]
  },
  {
   "cell_type": "code",
   "execution_count": null,
   "metadata": {},
   "outputs": [],
   "source": [
    "# Count the number of trips (aka wc -l in SQL) \n",
    "task1_4 = '''\n",
    "SELECT\n",
    "    count(*)\n",
    "FROM \n",
    "    citibike\n",
    "'''\n",
    "pd.read_csv(StringIO.StringIO(queryCartoDB(task1_4)), sep=',').head()"
   ]
  },
  {
   "cell_type": "code",
   "execution_count": null,
   "metadata": {},
   "outputs": [],
   "source": [
    "# Find the average/min/max trip duration\n",
    "task1_5 = '''\n",
    "SELECT\n",
    "    avg(tripduration) as Avg_Duration,\n",
    "    min(tripduration) as Min_Duration,\n",
    "    max(tripduration) as Max_Duration\n",
    "FROM \n",
    "    citibike\n",
    "'''\n",
    "pd.read_csv(StringIO.StringIO(queryCartoDB(task1_5)), sep=',').head()"
   ]
  },
  {
   "cell_type": "markdown",
   "metadata": {},
   "source": [
    "<b>Task 2</b>"
   ]
  },
  {
   "cell_type": "code",
   "execution_count": null,
   "metadata": {},
   "outputs": [],
   "source": [
    "# Selecting trips started on Feb-02-2015 only \n",
    "task2_1 = '''\n",
    "SELECT\n",
    "    *\n",
    "FROM \n",
    "    citibike\n",
    "WHERE \n",
    "    starttime >= '2015-02-02'\n",
    "    AND starttime < '2015-02-03'\n",
    "'''\n",
    "pd.read_csv(StringIO.StringIO(queryCartoDB(task2_1)), sep=',').head()"
   ]
  },
  {
   "cell_type": "code",
   "execution_count": null,
   "metadata": {},
   "outputs": [],
   "source": [
    "# Selecting trips started on the weekend \n",
    "task2_2a = '''\n",
    "SELECT\n",
    "    *\n",
    "FROM \n",
    "    citibike\n",
    "WHERE \n",
    "    extract(dow from starttime) in (0,6)\n",
    "'''\n",
    "pd.read_csv(StringIO.StringIO(queryCartoDB(task2_2a)), sep=',').head()"
   ]
  },
  {
   "cell_type": "code",
   "execution_count": null,
   "metadata": {},
   "outputs": [],
   "source": [
    "# Selecting trips started on the weekend \n",
    "task2_2b = '''\n",
    "SELECT\n",
    "    avg(tripduration) as Avg_Duration\n",
    "FROM \n",
    "    citibike\n",
    "WHERE \n",
    "    extract(dow from starttime) in (0,6)\n",
    "'''\n",
    "pd.read_csv(StringIO.StringIO(queryCartoDB(task2_2b)), sep=',').head()"
   ]
  },
  {
   "cell_type": "code",
   "execution_count": null,
   "metadata": {},
   "outputs": [],
   "source": [
    "# Can we do the same for weekday?\n",
    "task2_3a = '''\n",
    "SELECT\n",
    "    *\n",
    "FROM \n",
    "    citibike\n",
    "WHERE \n",
    "    extract(dow from starttime) not in (0,6)\n",
    "'''\n",
    "pd.read_csv(StringIO.StringIO(queryCartoDB(task2_3a)), sep=',').head()"
   ]
  },
  {
   "cell_type": "code",
   "execution_count": null,
   "metadata": {},
   "outputs": [],
   "source": [
    "# Can we do the same for weekday?\n",
    "task2_3b = '''\n",
    "SELECT\n",
    "    avg(tripduration) as Avg_Duration_Wd\n",
    "FROM \n",
    "    citibike\n",
    "WHERE \n",
    "    extract(dow from starttime) not in (0,6)\n",
    "'''\n",
    "pd.read_csv(StringIO.StringIO(queryCartoDB(task2_3b)), sep=',').head()"
   ]
  },
  {
   "cell_type": "markdown",
   "metadata": {},
   "source": [
    "<b>Task 3</b>"
   ]
  },
  {
   "cell_type": "code",
   "execution_count": null,
   "metadata": {},
   "outputs": [],
   "source": [
    "# Showing the list of start station locations using Group By\n",
    "task3_1 = '''\n",
    "SELECT DISTINCT\n",
    "    concat(start_station_latitude::text,', ',start_station_longitude::text) as start_station_location\n",
    "FROM \n",
    "    citibike\n",
    "'''\n",
    "pd.read_csv(StringIO.StringIO(queryCartoDB(task3_1)), sep=',').head()"
   ]
  },
  {
   "cell_type": "code",
   "execution_count": null,
   "metadata": {},
   "outputs": [],
   "source": [
    "# Showing the number of trips started per station \n",
    "# but only for stations within 500m of Time Square\n",
    "# The coordinates of Time Square is (40.7577,-73.9857)\n",
    "task3_2 = '''\n",
    "SELECT DISTINCT\n",
    "    start_station_id,\n",
    "    start_station_name,\n",
    "    count(*) as rides\n",
    "FROM \n",
    "    citibike\n",
    "WHERE\n",
    "    ST_DWithin(CDB_LatLng(start_station_latitude,start_station_longitude)::geography,CDB_LatLng(40.7577,-73.9857)::geography,500)\n",
    "GROUP BY \n",
    "    start_station_id, start_station_name\n",
    "'''\n",
    "pd.read_csv(StringIO.StringIO(queryCartoDB(task3_2)), sep=',').head()"
   ]
  },
  {
   "cell_type": "markdown",
   "metadata": {},
   "source": [
    "<b>Task 4</b>"
   ]
  },
  {
   "cell_type": "code",
   "execution_count": null,
   "metadata": {},
   "outputs": [],
   "source": [
    "#Find the station that had the longest average trip duration during\n",
    "#weekends and within 500m of TimeSquare! \n",
    "task4_1 = '''\n",
    "SELECT DISTINCT\n",
    "    start_station_id,\n",
    "    start_station_name,\n",
    "    avg(tripduration) as avg_duration\n",
    "FROM \n",
    "    citibike\n",
    "WHERE\n",
    "    ST_DWithin(CDB_LatLng(start_station_latitude,start_station_longitude)::geography,CDB_LatLng(40.7577,-73.9857)::geography,500)\n",
    "    AND extract(dow from starttime) in (0,6)\n",
    "GROUP BY \n",
    "    start_station_id, \n",
    "    start_station_name\n",
    "ORDER BY \n",
    "    avg(tripduration) DESC\n",
    "LIMIT 1\n",
    "'''\n",
    "pd.read_csv(StringIO.StringIO(queryCartoDB(task4_1)), sep=',').head()"
   ]
  },
  {
   "cell_type": "code",
   "execution_count": null,
   "metadata": {},
   "outputs": [],
   "source": [
    "#Extra: create lines for trips started from stations within 500m of Times\n",
    "#Squares and lasted less than 2 hours. The number of trips per each\n",
    "#pair of stations are output as attributes of these lines. \n",
    "task4_2 = '''\n",
    "SELECT DISTINCT\n",
    "    start_station_id,\n",
    "    start_station_name,\n",
    "    avg(tripduration) as avg_duration,\n",
    "    min(cartodb_id) as cartodb_id,\n",
    "    ST_Makeline(CDB_TransformToWebmercator(CDB_LatLng(start_station_latitude,start_station_longitude)),\n",
    "    CDB_TransformToWebmercator(CDB_LatLng(end_station_latitude,end_station_longitude))) as the_geom_webmercator\n",
    "FROM \n",
    "    citibike\n",
    "WHERE\n",
    "    ST_DWithin(CDB_LatLng(start_station_latitude,start_station_longitude)::geography,CDB_LatLng(40.7577,-73.9857)::geography,500)\n",
    "    AND tripduration / 3600 < 2\n",
    "GROUP BY \n",
    "    start_station_id, \n",
    "    start_station_name,\n",
    "    start_station_latitude,\n",
    "    start_station_longitude,\n",
    "    end_station_latitude,\n",
    "    end_station_longitude\n",
    "'''\n",
    "pd.read_csv(StringIO.StringIO(queryCartoDB(task4_2)), sep=',').head()"
   ]
  },
  {
   "cell_type": "markdown",
   "metadata": {},
   "source": [
    "Map link for above:\n",
    "https://sgo230.carto.com/builder/18ee1175-2808-4278-a9e4-4b89b830b08a/embed\n",
    "<br><br>\n",
    "Screenshot:\n",
    "![title](carto_screenshot.PNG)"
   ]
  },
  {
   "cell_type": "markdown",
   "metadata": {},
   "source": [
    "## ASH - Score 100. Extra Credit 0"
   ]
  },
  {
   "cell_type": "code",
   "execution_count": null,
   "metadata": {},
   "outputs": [],
   "source": []
  }
 ],
 "metadata": {
  "anaconda-cloud": {},
  "kernelspec": {
   "display_name": "PUI2016_Python3",
   "language": "python",
   "name": "pui2016_python3"
  },
  "language_info": {
   "codemirror_mode": {
    "name": "ipython",
    "version": 3
   },
   "file_extension": ".py",
   "mimetype": "text/x-python",
   "name": "python",
   "nbconvert_exporter": "python",
   "pygments_lexer": "ipython3",
   "version": "3.5.4"
  }
 },
 "nbformat": 4,
 "nbformat_minor": 1
}
